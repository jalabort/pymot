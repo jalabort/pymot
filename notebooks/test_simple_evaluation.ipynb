{
 "cells": [
  {
   "cell_type": "code",
   "execution_count": null,
   "metadata": {
    "collapsed": false
   },
   "outputs": [],
   "source": [
    "%matplotlib inline\n",
    "\n",
    "import json\n",
    "from pymot import MOTEvaluation"
   ]
  },
  {
   "cell_type": "code",
   "execution_count": null,
   "metadata": {
    "collapsed": true
   },
   "outputs": [],
   "source": [
    "groundtruth_file = '../data/groundtruth.json'\n",
    "hypotheses_file = '../data/hypotheses.json'"
   ]
  },
  {
   "cell_type": "code",
   "execution_count": null,
   "metadata": {
    "collapsed": false
   },
   "outputs": [],
   "source": [
    "gt = open(groundtruth_file)\n",
    "\n",
    "if groundtruth_file.endswith(\".json\"):\n",
    "    groundtruth = json.load(gt)[0]\n",
    "else:\n",
    "    raise Exception(\"Only json is supported!\")\n",
    "    \n",
    "gt.close()"
   ]
  },
  {
   "cell_type": "code",
   "execution_count": null,
   "metadata": {
    "collapsed": false
   },
   "outputs": [],
   "source": [
    "hypo = open(hypotheses_file)\n",
    "\n",
    "if hypotheses_file.endswith(\".json\"):\n",
    "    hypotheses = json.load(hypo)[0]\n",
    "else:\n",
    "    raise Exception(\"Only json is supported!\")\n",
    "    \n",
    "hypo.close()"
   ]
  },
  {
   "cell_type": "code",
   "execution_count": null,
   "metadata": {
    "collapsed": false
   },
   "outputs": [],
   "source": [
    "evaluator = MOTEvaluation(groundtruth, hypotheses)\n",
    "evaluator.evaluate()"
   ]
  },
  {
   "cell_type": "code",
   "execution_count": null,
   "metadata": {
    "collapsed": false
   },
   "outputs": [],
   "source": [
    "print(\"Track statistics\")\n",
    "evaluator.printTrackStatistics()\n",
    "print(\"Results\")\n",
    "evaluator.printResults()"
   ]
  }
 ],
 "metadata": {
  "anaconda-cloud": {},
  "kernelspec": {
   "display_name": "Python [cvdev]",
   "language": "python",
   "name": "Python [cvdev]"
  },
  "language_info": {
   "codemirror_mode": {
    "name": "ipython",
    "version": 3
   },
   "file_extension": ".py",
   "mimetype": "text/x-python",
   "name": "python",
   "nbconvert_exporter": "python",
   "pygments_lexer": "ipython3",
   "version": "3.5.2"
  }
 },
 "nbformat": 4,
 "nbformat_minor": 0
}
