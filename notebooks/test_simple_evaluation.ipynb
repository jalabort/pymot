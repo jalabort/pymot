{
 "cells": [
  {
   "cell_type": "code",
   "execution_count": null,
   "metadata": {
    "collapsed": false
   },
   "outputs": [],
   "source": [
    "%matplotlib inline\n",
    "\n",
    "import json\n",
    "from pymot import MotEvaluation"
   ]
  },
  {
   "cell_type": "code",
   "execution_count": null,
   "metadata": {
    "collapsed": true
   },
   "outputs": [],
   "source": [
    "groundtruth_file = '../data/annotations.json'\n",
    "hypotheses_file = '../data/hypotheses.json'"
   ]
  },
  {
   "cell_type": "code",
   "execution_count": null,
   "metadata": {
    "collapsed": false
   },
   "outputs": [],
   "source": [
    "gt = open(groundtruth_file)\n",
    "\n",
    "if groundtruth_file.endswith(\".json\"):\n",
    "    groundtruth = json.load(gt)\n",
    "else:\n",
    "    raise Exception(\"Only json is supported!\")\n",
    "    \n",
    "gt.close()"
   ]
  },
  {
   "cell_type": "code",
   "execution_count": null,
   "metadata": {
    "collapsed": false
   },
   "outputs": [],
   "source": [
    "hypo = open(hypotheses_file)\n",
    "\n",
    "if hypotheses_file.endswith(\".json\"):\n",
    "    hypotheses = json.load(hypo)\n",
    "else:\n",
    "    raise Exception(\"Only json is supported!\")\n",
    "    \n",
    "hypo.close()"
   ]
  },
  {
   "cell_type": "code",
   "execution_count": null,
   "metadata": {
    "collapsed": false
   },
   "outputs": [],
   "source": [
    "evaluator = MotEvaluation(groundtruth, hypotheses)\n",
    "evaluator.evaluate()"
   ]
  },
  {
   "cell_type": "code",
   "execution_count": null,
   "metadata": {
    "collapsed": false
   },
   "outputs": [],
   "source": [
    "print(\"Track statistics\")\n",
    "evaluator.print_track_statistics()\n",
    "print(\"Results\")\n",
    "evaluator.print_results()"
   ]
  }
 ],
 "metadata": {
  "anaconda-cloud": {},
  "kernelspec": {
   "display_name": "Python 2",
   "language": "python",
   "name": "python2"
  },
  "language_info": {
   "codemirror_mode": {
    "name": "ipython",
    "version": 2
   },
   "file_extension": ".py",
   "mimetype": "text/x-python",
   "name": "python",
   "nbconvert_exporter": "python",
   "pygments_lexer": "ipython2",
   "version": "2.7.6"
  }
 },
 "nbformat": 4,
 "nbformat_minor": 0
}
