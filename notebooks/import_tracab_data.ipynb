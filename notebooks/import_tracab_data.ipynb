{
 "cells": [
  {
   "cell_type": "code",
   "execution_count": null,
   "metadata": {
    "collapsed": false
   },
   "outputs": [],
   "source": [
    "%matplotlib inline\n",
    "\n",
    "import xmltodict\n",
    "import json\n",
    "import gzip\n",
    "\n",
    "from pymot import MotEvaluation, import_tracab"
   ]
  },
  {
   "cell_type": "code",
   "execution_count": null,
   "metadata": {
    "collapsed": true
   },
   "outputs": [],
   "source": [
    "tracab_data_path = '/data/mot/803452_tracabRaw/803452_Liverpool-Chelsea.dat'\n",
    "\n",
    "start = 10000\n",
    "end = 11500\n",
    "bb_height = 10\n",
    "bb_width = 10"
   ]
  },
  {
   "cell_type": "code",
   "execution_count": null,
   "metadata": {
    "collapsed": false
   },
   "outputs": [],
   "source": [
    "annotations = import_tracab(tracab_data_path, start=start, end=end, \n",
    "                            bb_height=bb_height, bb_width=bb_width)"
   ]
  },
  {
   "cell_type": "code",
   "execution_count": null,
   "metadata": {
    "collapsed": false
   },
   "outputs": [],
   "source": [
    "len(annotations['frames'])"
   ]
  },
  {
   "cell_type": "code",
   "execution_count": null,
   "metadata": {
    "collapsed": false
   },
   "outputs": [],
   "source": [
    "with gzip.open('/data/mot/803452_tracabRaw/803452_Liverpool-Chelsea.json.gzip', 'wt') as outfile:\n",
    "    outfile.write(json.dumps(annotations, sort_keys=True, indent=2))"
   ]
  },
  {
   "cell_type": "markdown",
   "metadata": {},
   "source": [
    "### Load tracab json file"
   ]
  },
  {
   "cell_type": "code",
   "execution_count": null,
   "metadata": {
    "collapsed": false
   },
   "outputs": [],
   "source": [
    "with gzip.open('/data/mot/803452_tracabRaw/803452_Liverpool-Chelsea.json.gzip', 'rt') as a:\n",
    "    annotations = json.load(a)"
   ]
  },
  {
   "cell_type": "code",
   "execution_count": null,
   "metadata": {
    "collapsed": false
   },
   "outputs": [],
   "source": [
    "annotations['frames'][0]"
   ]
  }
 ],
 "metadata": {
  "anaconda-cloud": {},
  "kernelspec": {
   "display_name": "Python [cvdev]",
   "language": "python",
   "name": "Python [cvdev]"
  },
  "language_info": {
   "codemirror_mode": {
    "name": "ipython",
    "version": 3
   },
   "file_extension": ".py",
   "mimetype": "text/x-python",
   "name": "python",
   "nbconvert_exporter": "python",
   "pygments_lexer": "ipython3",
   "version": "3.5.2"
  }
 },
 "nbformat": 4,
 "nbformat_minor": 0
}
